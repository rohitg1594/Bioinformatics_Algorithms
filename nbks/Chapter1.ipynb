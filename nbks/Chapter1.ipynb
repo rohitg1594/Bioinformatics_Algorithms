{
 "cells": [
  {
   "cell_type": "code",
   "execution_count": 8,
   "metadata": {},
   "outputs": [],
   "source": [
    "import re\n",
    "from IPython.display import HTML\n",
    "%matplotlib inline\n",
    "import matplotlib.pyplot as plt\n",
    "import random"
   ]
  },
  {
   "cell_type": "code",
   "execution_count": 2,
   "metadata": {},
   "outputs": [],
   "source": [
    "VOCAB = [\"A\", \"C\", \"T\", \"G\"]\n",
    "COMPLEMENTS = {\n",
    "    \"A\": \"T\",\n",
    "    \"T\": \"A\",\n",
    "    \"G\": \"C\",\n",
    "    \"C\": \"G\",\n",
    "    \"a\": \"t\",\n",
    "    \"t\": \"a\",\n",
    "    \"g\": \"c\",\n",
    "    \"c\": \"g\"\n",
    "}"
   ]
  },
  {
   "cell_type": "code",
   "execution_count": 3,
   "metadata": {},
   "outputs": [],
   "source": [
    "def pattern_count(text, pattern):\n",
    "    \"\"\"\n",
    "    Find the number of times a `pattern` is repeated in `text`.\n",
    "    \"\"\"\n",
    "    count = 0\n",
    "    lt, lp = len(text), len(pattern)\n",
    "    for i in range(0, lt - lp):\n",
    "        if text[i:i + lp] == pattern:\n",
    "            count += 1\n",
    "    \n",
    "    return count"
   ]
  },
  {
   "cell_type": "code",
   "execution_count": 4,
   "metadata": {},
   "outputs": [
    {
     "name": "stdout",
     "output_type": "stream",
     "text": [
      "3\n",
      "3\n"
     ]
    }
   ],
   "source": [
    "print(pattern_count(\"CGATATATCCATAG\", \"ATA\"))\n",
    "print(pattern_count(\"ACAACTATGCATACTATCGGGAACTATCCT\", \"ACTAT\"))"
   ]
  },
  {
   "cell_type": "code",
   "execution_count": 5,
   "metadata": {},
   "outputs": [],
   "source": [
    "def frequent_words(text, k):\n",
    "    \"\"\"\n",
    "    Calculate the most frequent contiguous words of length `k` in `text`.\n",
    "    \"\"\"\n",
    "    lt = len(text)\n",
    "    counts = []\n",
    "    pattern2count = {}\n",
    "    for i in range(lt - k):\n",
    "        pattern = text[i:i + k]\n",
    "        if pattern not in pattern2count:\n",
    "            pattern2count[pattern] = pattern_count(text, pattern)\n",
    "            \n",
    "    max_count = max(pattern2count.values())\n",
    "    frequent_patterns = [pattern for pattern, count in pattern2count.items() if count == max_count]\n",
    "    \n",
    "    return frequent_patterns, max_count"
   ]
  },
  {
   "cell_type": "code",
   "execution_count": 6,
   "metadata": {},
   "outputs": [
    {
     "name": "stdout",
     "output_type": "stream",
     "text": [
      "(['AC', 'TA', 'AT'], 4)\n",
      "(['ACT', 'CTA', 'TAT'], 3)\n",
      "(['ACTA', 'CTAT'], 3)\n",
      "(['ACTAT'], 3)\n"
     ]
    }
   ],
   "source": [
    "text = \"ACAACTATGCATACTATCGGGAACTATCCT\"\n",
    "print(frequent_words(text, 2))\n",
    "print(frequent_words(text, 3))\n",
    "print(frequent_words(text, 4))\n",
    "print(frequent_words(text, 5))"
   ]
  },
  {
   "cell_type": "code",
   "execution_count": 7,
   "metadata": {},
   "outputs": [
    {
     "name": "stdout",
     "output_type": "stream",
     "text": [
      "1 (['t'], 174) 135\n",
      "2 (['tt'], 55) 33\n",
      "3 (['tga'], 25) 8\n",
      "4 (['atga'], 12) 2\n",
      "5 (['tgatc', 'gatca'], 8) 0\n",
      "6 (['tgatca'], 8) 0\n",
      "7 (['atgatca'], 5) 0\n",
      "8 (['atgatcaa'], 4) 0\n",
      "9 (['atgatcaag', 'ctcttgatc', 'tcttgatca', 'cttgatcat'], 3) 0\n"
     ]
    }
   ],
   "source": [
    "oriC_text = \"atcaatgatcaacgtaagcttctaagcatgatcaaggtgctcacacagtttatccacaacctgagtggatgacatcaagataggtcgttgtatctccttcctctcgtactctcatgaccacggaaagatgatcaagagaggatgatttcttggccatatcgcaatgaatacttgtgacttgtgcttccaattgacatcttcagcgccatattgcgctggccaaggtgacggagcgggattacgaaagcatgatcatggctgttgttctgtttatcttgttttgactgagacttgttaggatagacggtttttcatcactgactagccaaagccttactctgcctgacatcgaccgtaaattgataatgaatttacatgcttccgcgacgatttacctcttgatcatcgatccgattgaagatcttcaattgttaattctcttgcctcgactcatagccatgatgagctcttgatcatgtttccttaaccctctattttttacggaagaatgatcaagctgctgctcttgatcatcgtttc\"\n",
    "for k in range(1, 10):\n",
    "    print(k, frequent_words(oriC_text, k), (540 - k + 1) // 4**k)"
   ]
  },
  {
   "cell_type": "code",
   "execution_count": 18,
   "metadata": {},
   "outputs": [
    {
     "name": "stdout",
     "output_type": "stream",
     "text": [
      "0\n",
      "100\n",
      "200\n",
      "300\n",
      "400\n",
      "500\n",
      "600\n",
      "700\n",
      "800\n",
      "900\n",
      "1000\n",
      "1100\n",
      "Num nine mers: 1 / 1111, prob: 1 / 1111.0 \n",
      "1200\n",
      "Num nine mers: 2 / 1251, prob: 1 / 625.5 \n",
      "1300\n",
      "1400\n",
      "1500\n",
      "1600\n",
      "1700\n",
      "1800\n",
      "1900\n",
      "2000\n",
      "2100\n",
      "Num nine mers: 3 / 2145, prob: 1 / 715.0 \n",
      "2200\n",
      "Num nine mers: 4 / 2279, prob: 1 / 569.75 \n",
      "2300\n",
      "2400\n",
      "2500\n",
      "2600\n",
      "2700\n",
      "2800\n",
      "2900\n",
      "3000\n",
      "3100\n",
      "3200\n",
      "3300\n",
      "3400\n",
      "3500\n",
      "Num nine mers: 5 / 3521, prob: 1 / 704.2 \n",
      "3600\n",
      "3700\n",
      "3800\n",
      "3900\n",
      "4000\n",
      "4100\n",
      "4200\n",
      "4300\n",
      "4400\n",
      "4500\n",
      "Num nine mers: 6 / 4576, prob: 1 / 762.6666666666666 \n",
      "4600\n",
      "Num nine mers: 7 / 4678, prob: 1 / 668.2857142857143 \n",
      "4700\n",
      "4800\n",
      "4900\n",
      "5000\n",
      "5100\n",
      "5200\n",
      "5300\n",
      "5400\n",
      "5500\n",
      "5600\n",
      "5700\n",
      "5800\n",
      "Num nine mers: 8 / 5870, prob: 1 / 733.75 \n",
      "5900\n",
      "6000\n",
      "6100\n",
      "6200\n",
      "6300\n",
      "6400\n",
      "6500\n",
      "6600\n",
      "6700\n",
      "6800\n",
      "6900\n",
      "7000\n",
      "7100\n",
      "7200\n",
      "Num nine mers: 9 / 7203, prob: 1 / 800.3333333333334 \n",
      "7300\n",
      "7400\n",
      "7500\n",
      "7600\n",
      "7700\n",
      "Num nine mers: 10 / 7794, prob: 1 / 779.4 \n",
      "7800\n",
      "7900\n",
      "8000\n",
      "8100\n",
      "8200\n",
      "8300\n",
      "8400\n",
      "8500\n",
      "8600\n",
      "Num nine mers: 11 / 8626, prob: 1 / 784.1818181818181 \n",
      "Num nine mers: 12 / 8695, prob: 1 / 724.5833333333334 \n",
      "8700\n",
      "8800\n",
      "Num nine mers: 13 / 8830, prob: 1 / 679.2307692307693 \n",
      "8900\n",
      "9000\n",
      "Num nine mers: 14 / 9071, prob: 1 / 647.9285714285714 \n",
      "9100\n",
      "9200\n",
      "9300\n",
      "9400\n",
      "9500\n",
      "9600\n",
      "9700\n",
      "9800\n",
      "9900\n",
      "10000\n",
      "10100\n",
      "10200\n",
      "10300\n",
      "10400\n",
      "10500\n",
      "10600\n",
      "Num nine mers: 15 / 10646, prob: 1 / 709.7333333333333 \n",
      "10700\n",
      "10800\n",
      "Num nine mers: 16 / 10897, prob: 1 / 681.0625 \n",
      "10900\n",
      "11000\n",
      "11100\n",
      "11200\n",
      "11300\n",
      "11400\n",
      "Num nine mers: 17 / 11470, prob: 1 / 674.7058823529412 \n",
      "11500\n",
      "11600\n",
      "11700\n",
      "11800\n",
      "11900\n",
      "12000\n",
      "Num nine mers: 18 / 12044, prob: 1 / 669.1111111111111 \n",
      "12100\n",
      "12200\n",
      "12300\n",
      "12400\n",
      "12500\n",
      "12600\n",
      "12700\n",
      "Num nine mers: 19 / 12720, prob: 1 / 669.4736842105264 \n",
      "12800\n",
      "12900\n",
      "13000\n",
      "13100\n",
      "13200\n",
      "13300\n",
      "13400\n",
      "13500\n",
      "13600\n",
      "13700\n",
      "Num nine mers: 20 / 13739, prob: 1 / 686.95 \n",
      "13800\n",
      "13900\n",
      "14000\n",
      "14100\n",
      "14200\n",
      "14300\n",
      "14400\n",
      "14500\n",
      "Num nine mers: 21 / 14558, prob: 1 / 693.2380952380952 \n",
      "14600\n",
      "Num nine mers: 22 / 14602, prob: 1 / 663.7272727272727 \n",
      "14700\n",
      "14800\n",
      "14900\n",
      "15000\n",
      "15100\n",
      "15200\n",
      "15300\n",
      "15400\n",
      "15500\n",
      "15600\n",
      "Num nine mers: 23 / 15643, prob: 1 / 680.1304347826087 \n",
      "15700\n",
      "15800\n",
      "15900\n",
      "16000\n",
      "16100\n",
      "16200\n",
      "16300\n",
      "16400\n",
      "16500\n",
      "16600\n",
      "16700\n",
      "16800\n",
      "16900\n",
      "17000\n",
      "17100\n",
      "17200\n",
      "17300\n",
      "17400\n",
      "17500\n",
      "Num nine mers: 24 / 17566, prob: 1 / 731.9166666666666 \n",
      "17600\n",
      "17700\n",
      "17800\n",
      "17900\n",
      "18000\n",
      "18100\n",
      "18200\n",
      "18300\n",
      "18400\n",
      "18500\n",
      "18600\n",
      "18700\n",
      "18800\n",
      "18900\n",
      "19000\n",
      "19100\n",
      "19200\n",
      "19300\n",
      "19400\n",
      "19500\n",
      "19600\n",
      "19700\n",
      "19800\n",
      "19900\n",
      "Num nine mers: 25 / 19932, prob: 1 / 797.28 \n",
      "20000\n",
      "Num nine mers: 26 / 20065, prob: 1 / 771.7307692307693 \n",
      "20100\n",
      "20200\n",
      "20300\n",
      "20400\n",
      "20500\n",
      "20600\n",
      "20700\n",
      "20800\n",
      "20900\n",
      "21000\n",
      "21100\n",
      "Num nine mers: 27 / 21102, prob: 1 / 781.5555555555555 \n",
      "21200\n",
      "21300\n",
      "21400\n",
      "21500\n",
      "21600\n",
      "21700\n",
      "21800\n",
      "21900\n",
      "22000\n",
      "22100\n",
      "22200\n",
      "22300\n",
      "22400\n",
      "22500\n",
      "22600\n",
      "22700\n",
      "22800\n",
      "22900\n",
      "23000\n"
     ]
    },
    {
     "ename": "KeyboardInterrupt",
     "evalue": "",
     "output_type": "error",
     "traceback": [
      "\u001b[0;31m---------------------------------------------------------------------------\u001b[0m",
      "\u001b[0;31mKeyboardInterrupt\u001b[0m                         Traceback (most recent call last)",
      "\u001b[0;32m<ipython-input-18-b124463193df>\u001b[0m in \u001b[0;36m<module>\u001b[0;34m\u001b[0m\n\u001b[1;32m     11\u001b[0m     \u001b[0;32mif\u001b[0m \u001b[0mi\u001b[0m \u001b[0;34m%\u001b[0m \u001b[0;36m100\u001b[0m \u001b[0;34m==\u001b[0m \u001b[0;36m0\u001b[0m\u001b[0;34m:\u001b[0m\u001b[0;34m\u001b[0m\u001b[0;34m\u001b[0m\u001b[0m\n\u001b[1;32m     12\u001b[0m         \u001b[0mprint\u001b[0m\u001b[0;34m(\u001b[0m\u001b[0mi\u001b[0m\u001b[0;34m)\u001b[0m\u001b[0;34m\u001b[0m\u001b[0;34m\u001b[0m\u001b[0m\n\u001b[0;32m---> 13\u001b[0;31m     \u001b[0;32mif\u001b[0m \u001b[0mfrequent_words\u001b[0m\u001b[0;34m(\u001b[0m\u001b[0mrand_string\u001b[0m\u001b[0;34m,\u001b[0m \u001b[0;36m9\u001b[0m\u001b[0;34m)\u001b[0m\u001b[0;34m[\u001b[0m\u001b[0;36m1\u001b[0m\u001b[0;34m]\u001b[0m \u001b[0;34m>=\u001b[0m \u001b[0;36m3\u001b[0m\u001b[0;34m:\u001b[0m\u001b[0;34m\u001b[0m\u001b[0;34m\u001b[0m\u001b[0m\n\u001b[0m\u001b[1;32m     14\u001b[0m         \u001b[0mnum_9_mers\u001b[0m \u001b[0;34m+=\u001b[0m \u001b[0;36m1\u001b[0m\u001b[0;34m\u001b[0m\u001b[0;34m\u001b[0m\u001b[0m\n\u001b[1;32m     15\u001b[0m         \u001b[0mprint\u001b[0m\u001b[0;34m(\u001b[0m\u001b[0;34mf\"Num nine mers: {num_9_mers} / {i}, prob: {1} / {i / num_9_mers} \"\u001b[0m\u001b[0;34m)\u001b[0m\u001b[0;34m\u001b[0m\u001b[0;34m\u001b[0m\u001b[0m\n",
      "\u001b[0;32m<ipython-input-5-e7f0b0534b9f>\u001b[0m in \u001b[0;36mfrequent_words\u001b[0;34m(text, k)\u001b[0m\n\u001b[1;32m      9\u001b[0m         \u001b[0mpattern\u001b[0m \u001b[0;34m=\u001b[0m \u001b[0mtext\u001b[0m\u001b[0;34m[\u001b[0m\u001b[0mi\u001b[0m\u001b[0;34m:\u001b[0m\u001b[0mi\u001b[0m \u001b[0;34m+\u001b[0m \u001b[0mk\u001b[0m\u001b[0;34m]\u001b[0m\u001b[0;34m\u001b[0m\u001b[0;34m\u001b[0m\u001b[0m\n\u001b[1;32m     10\u001b[0m         \u001b[0;32mif\u001b[0m \u001b[0mpattern\u001b[0m \u001b[0;32mnot\u001b[0m \u001b[0;32min\u001b[0m \u001b[0mpattern2count\u001b[0m\u001b[0;34m:\u001b[0m\u001b[0;34m\u001b[0m\u001b[0;34m\u001b[0m\u001b[0m\n\u001b[0;32m---> 11\u001b[0;31m             \u001b[0mpattern2count\u001b[0m\u001b[0;34m[\u001b[0m\u001b[0mpattern\u001b[0m\u001b[0;34m]\u001b[0m \u001b[0;34m=\u001b[0m \u001b[0mpattern_count\u001b[0m\u001b[0;34m(\u001b[0m\u001b[0mtext\u001b[0m\u001b[0;34m,\u001b[0m \u001b[0mpattern\u001b[0m\u001b[0;34m)\u001b[0m\u001b[0;34m\u001b[0m\u001b[0;34m\u001b[0m\u001b[0m\n\u001b[0m\u001b[1;32m     12\u001b[0m \u001b[0;34m\u001b[0m\u001b[0m\n\u001b[1;32m     13\u001b[0m     \u001b[0mmax_count\u001b[0m \u001b[0;34m=\u001b[0m \u001b[0mmax\u001b[0m\u001b[0;34m(\u001b[0m\u001b[0mpattern2count\u001b[0m\u001b[0;34m.\u001b[0m\u001b[0mvalues\u001b[0m\u001b[0;34m(\u001b[0m\u001b[0;34m)\u001b[0m\u001b[0;34m)\u001b[0m\u001b[0;34m\u001b[0m\u001b[0;34m\u001b[0m\u001b[0m\n",
      "\u001b[0;32m<ipython-input-3-5d01e05770f6>\u001b[0m in \u001b[0;36mpattern_count\u001b[0;34m(text, pattern)\u001b[0m\n\u001b[1;32m      6\u001b[0m     \u001b[0mlt\u001b[0m\u001b[0;34m,\u001b[0m \u001b[0mlp\u001b[0m \u001b[0;34m=\u001b[0m \u001b[0mlen\u001b[0m\u001b[0;34m(\u001b[0m\u001b[0mtext\u001b[0m\u001b[0;34m)\u001b[0m\u001b[0;34m,\u001b[0m \u001b[0mlen\u001b[0m\u001b[0;34m(\u001b[0m\u001b[0mpattern\u001b[0m\u001b[0;34m)\u001b[0m\u001b[0;34m\u001b[0m\u001b[0;34m\u001b[0m\u001b[0m\n\u001b[1;32m      7\u001b[0m     \u001b[0;32mfor\u001b[0m \u001b[0mi\u001b[0m \u001b[0;32min\u001b[0m \u001b[0mrange\u001b[0m\u001b[0;34m(\u001b[0m\u001b[0;36m0\u001b[0m\u001b[0;34m,\u001b[0m \u001b[0mlt\u001b[0m \u001b[0;34m-\u001b[0m \u001b[0mlp\u001b[0m\u001b[0;34m)\u001b[0m\u001b[0;34m:\u001b[0m\u001b[0;34m\u001b[0m\u001b[0;34m\u001b[0m\u001b[0m\n\u001b[0;32m----> 8\u001b[0;31m         \u001b[0;32mif\u001b[0m \u001b[0mtext\u001b[0m\u001b[0;34m[\u001b[0m\u001b[0mi\u001b[0m\u001b[0;34m:\u001b[0m\u001b[0mi\u001b[0m \u001b[0;34m+\u001b[0m \u001b[0mlp\u001b[0m\u001b[0;34m]\u001b[0m \u001b[0;34m==\u001b[0m \u001b[0mpattern\u001b[0m\u001b[0;34m:\u001b[0m\u001b[0;34m\u001b[0m\u001b[0;34m\u001b[0m\u001b[0m\n\u001b[0m\u001b[1;32m      9\u001b[0m             \u001b[0mcount\u001b[0m \u001b[0;34m+=\u001b[0m \u001b[0;36m1\u001b[0m\u001b[0;34m\u001b[0m\u001b[0;34m\u001b[0m\u001b[0m\n\u001b[1;32m     10\u001b[0m \u001b[0;34m\u001b[0m\u001b[0m\n",
      "\u001b[0;31mKeyboardInterrupt\u001b[0m: "
     ]
    }
   ],
   "source": [
    "# Monte carlo to estimate probability of 9-mer appearing\n",
    "# 3 or more times in a DNA string of length 500. The book\n",
    "# says it should be approximately 1 / 1300\n",
    "\n",
    "N = 10 ** 5\n",
    "L = 500\n",
    "rand_strings = [''.join([random.choice(VOCAB) for _ in range(500)]) for _ in range(N)]\n",
    "\n",
    "num_9_mers = 0\n",
    "for i, rand_string in enumerate(rand_strings):\n",
    "    if i % 100 == 0:\n",
    "        print(i)\n",
    "    if frequent_words(rand_string, 9)[1] >= 3:\n",
    "        num_9_mers += 1\n",
    "        print(f\"Num nine mers: {num_9_mers} / {i}, prob: {1} / {i / num_9_mers} \")"
   ]
  },
  {
   "cell_type": "markdown",
   "metadata": {},
   "source": [
    "#### Reverse complement"
   ]
  },
  {
   "cell_type": "code",
   "execution_count": 13,
   "metadata": {},
   "outputs": [],
   "source": [
    "def reverse_complement(text):\n",
    "    \"\"\"\n",
    "    Return the reverse complement of a nucleotide string.\n",
    "    \"\"\"\n",
    "    complement_text = \"\".join([COMPLEMENTS[letter] for letter in text])\n",
    "    return complement_text[::-1]"
   ]
  },
  {
   "cell_type": "code",
   "execution_count": 11,
   "metadata": {},
   "outputs": [
    {
     "data": {
      "text/plain": [
       "'ACTATGCGACT'"
      ]
     },
     "execution_count": 11,
     "metadata": {},
     "output_type": "execute_result"
    }
   ],
   "source": [
    "reverse_complement(\"AGTCGCATAGT\")"
   ]
  },
  {
   "cell_type": "code",
   "execution_count": 12,
   "metadata": {},
   "outputs": [],
   "source": [
    "def pattern_matching(pattern, genome):\n",
    "    \"\"\"\n",
    "    Return the starting postions of `pattern` in `genome`.\n",
    "    \"\"\"\n",
    "    return [m.start() for m in re.finditer(pattern, genome)]"
   ]
  },
  {
   "cell_type": "code",
   "execution_count": 13,
   "metadata": {},
   "outputs": [
    {
     "data": {
      "text/plain": [
       "[5, 28, 128, 249, 399, 470, 509, 527]"
      ]
     },
     "execution_count": 13,
     "metadata": {},
     "output_type": "execute_result"
    }
   ],
   "source": [
    "pattern_matching(\"tgatca\", oriC_text)"
   ]
  },
  {
   "cell_type": "code",
   "execution_count": 14,
   "metadata": {},
   "outputs": [],
   "source": [
    "oriC_thermatoga = \"aactctatacctcctttttgtcgaatttgtgtgatttatagagaaaatcttattaactgaaactaaaatggtaggtttggtggtaggttttgtgtacattttgtagtatctgatttttaattacataccgtatattgtattaaattgacgaacaattgcatggaattgaatatatgcaaaacaaacctaccaccaaactctgtattgaccattttaggacaacttcagggtggtaggtttctgaagctctcatcaatagactattttagtctttacaaacaatattaccgttcagattcaagattctacaacgctgttttaatgggcgttgcagaaaacttaccacctaaaatccagtatccaagccgatttcagagaaacctaccacttacctaccacttacctaccacccgggtggtaagttgcagacattattaaaaacctcatcagaagcttgttcaaaaatttcaatactcgaaacctaccacctgcgtcccctattatttactactactaataatagcagtataattgatctga\""
   ]
  },
  {
   "cell_type": "code",
   "execution_count": 15,
   "metadata": {},
   "outputs": [
    {
     "data": {
      "text/plain": [
       "[]"
      ]
     },
     "execution_count": 15,
     "metadata": {},
     "output_type": "execute_result"
    }
   ],
   "source": [
    "pattern_matching(\"ATGATCAAG\", oriC_thermatoga)"
   ]
  },
  {
   "cell_type": "code",
   "execution_count": 16,
   "metadata": {},
   "outputs": [
    {
     "data": {
      "text/plain": [
       "(['acctaccac'], 5)"
      ]
     },
     "execution_count": 16,
     "metadata": {},
     "output_type": "execute_result"
    }
   ],
   "source": [
    "frequent_words(oriC_thermatoga, 9)"
   ]
  },
  {
   "cell_type": "code",
   "execution_count": 17,
   "metadata": {},
   "outputs": [
    {
     "data": {
      "text/plain": [
       "(['acctacca', 'cctaccac'], 5)"
      ]
     },
     "execution_count": 17,
     "metadata": {},
     "output_type": "execute_result"
    }
   ],
   "source": [
    "frequent_words(oriC_thermatoga, 8)"
   ]
  },
  {
   "cell_type": "code",
   "execution_count": 18,
   "metadata": {},
   "outputs": [
    {
     "data": {
      "text/plain": [
       "(['taccac'], 6)"
      ]
     },
     "execution_count": 18,
     "metadata": {},
     "output_type": "execute_result"
    }
   ],
   "source": [
    "frequent_words(oriC_thermatoga, 6)"
   ]
  },
  {
   "cell_type": "code",
   "execution_count": 19,
   "metadata": {},
   "outputs": [],
   "source": [
    "def find_clumps(genome, k, l, t, verbose=False, print_every=10 ** 4):\n",
    "    \"\"\"\n",
    "    Find patterns forming clumps in a genome. A `k`-mer pattern forms an (`l`, `t`)-clump \n",
    "    inside a `genome` if there is an interval of genome of length l in which the k-mer\n",
    "    appears atleast t times.\n",
    "    \"\"\"\n",
    "    ret = []\n",
    "    for i in range(len(genome) - l):\n",
    "        if verbose and i % print_every == 0:\n",
    "            print(f\"Done with {i} / {len(genome)}\")\n",
    "        text = genome[i: i + l]\n",
    "        words, count = frequent_words(text, k)\n",
    "        if count > t:\n",
    "             ret.extend([(word, text, count) for word in words])\n",
    "                \n",
    "    return ret"
   ]
  },
  {
   "cell_type": "code",
   "execution_count": 20,
   "metadata": {},
   "outputs": [],
   "source": [
    "def load_genome(flat_path):\n",
    "    \"\"\"\n",
    "    Load a genome string from .fast file.\n",
    "    \"\"\"\n",
    "    with open(flat_path) as f:\n",
    "        total_file = f.read()\n",
    "    origin_start = total_file.find(\"ORIGIN\")\n",
    "    genome = ''.join([l[10:] for l in total_file[origin_start:].split(\"\\n\")[1:]]).replace(\" \", \"\")\n",
    "    \n",
    "    return genome"
   ]
  },
  {
   "cell_type": "code",
   "execution_count": 21,
   "metadata": {},
   "outputs": [],
   "source": [
    "e_coli_genome = load_genome(\"../data/e_coli.flat\")"
   ]
  },
  {
   "cell_type": "code",
   "execution_count": 22,
   "metadata": {},
   "outputs": [
    {
     "data": {
      "text/plain": [
       "4641652"
      ]
     },
     "execution_count": 22,
     "metadata": {},
     "output_type": "execute_result"
    }
   ],
   "source": [
    "len(e_coli_genome)"
   ]
  },
  {
   "cell_type": "code",
   "execution_count": 23,
   "metadata": {},
   "outputs": [],
   "source": [
    "def get_skew_array(genome):\n",
    "    \"\"\"\n",
    "    Return the skewness (difference of guanine and cytosine) in a genome.\n",
    "    \"\"\"\n",
    "    skew_arr = [0]\n",
    "    current_skew = 0\n",
    "    for letter in genome:\n",
    "        if letter == \"g\":\n",
    "            current_skew += 1\n",
    "        elif letter == \"c\":\n",
    "            current_skew -= 1\n",
    "        skew_arr.append(current_skew)\n",
    "        \n",
    "    return skew_arr    "
   ]
  },
  {
   "cell_type": "code",
   "execution_count": 24,
   "metadata": {},
   "outputs": [],
   "source": [
    "e_coli_skew = get_skew_array(e_coli_genome)"
   ]
  },
  {
   "cell_type": "code",
   "execution_count": 25,
   "metadata": {},
   "outputs": [
    {
     "data": {
      "text/plain": [
       "[<matplotlib.lines.Line2D at 0x7f22418dcf60>]"
      ]
     },
     "execution_count": 25,
     "metadata": {},
     "output_type": "execute_result"
    },
    {
     "data": {
      "image/png": "[encoded data removed]",
      "text/plain": [
       "<Figure size 432x288 with 1 Axes>"
      ]
     },
     "metadata": {
      "needs_background": "light"
     },
     "output_type": "display_data"
    }
   ],
   "source": [
    "plt.plot(e_coli_skew)"
   ]
  },
  {
   "cell_type": "code",
   "execution_count": 31,
   "metadata": {},
   "outputs": [],
   "source": [
    "e_coli_skew_min = e_coli_skew.index(min(e_coli_skew))"
   ]
  },
  {
   "cell_type": "code",
   "execution_count": 32,
   "metadata": {},
   "outputs": [
    {
     "data": {
      "text/plain": [
       "'aatgatgatgacgtcaaaaggatccggataaaacatggtgattgcctcgcataacgcggtatgaaaatggattgaagcccgggccgtggattctactcaactttgtcggcttgagaaagacctgggatcctgggtattaaaaagaagatctatttatttagagatctgttctattgtgatctcttattaggatcgcactgccctgtggataacaaggatccggcttttaagatcaacaacctggaaaggatcattaactgtgaatgatcggtgatcctggaccgtataagctgggatcagaatgaggggttatacacaactcaaaaactgaacaacagttgttctttggataactaccggttgatccaagcttcctgacagagttatccacagtagatcgcacgatctgtatacttatttgagtaaattaacccacgatcccagccattcttctgccggatcttccggaatgtcgtgatcaagaatgttgatcttcagtg'"
      ]
     },
     "execution_count": 32,
     "metadata": {},
     "output_type": "execute_result"
    }
   ],
   "source": [
    "e_coli_genome[e_coli_skew_min: e_coli_skew_min + 500]"
   ]
  },
  {
   "cell_type": "code",
   "execution_count": 33,
   "metadata": {},
   "outputs": [],
   "source": [
    "def hamming_distance(p, q):\n",
    "    \"\"\"\n",
    "    Computes the hamming distance between strings `p` and `q`.\n",
    "    \"\"\"\n",
    "    if len(p) != len(q):\n",
    "        raise ValueError(\"p and q should be of equal length to calculate their hamming distance.\")\n",
    "        \n",
    "    d = 0\n",
    "    for i in range(len(p)):\n",
    "        if p[i] != q[i]:\n",
    "            d += 1\n",
    "            \n",
    "    return d"
   ]
  },
  {
   "cell_type": "code",
   "execution_count": 34,
   "metadata": {},
   "outputs": [
    {
     "data": {
      "text/plain": [
       "1"
      ]
     },
     "execution_count": 34,
     "metadata": {},
     "output_type": "execute_result"
    }
   ],
   "source": [
    "hamming_distance(\"rohit\", \"rohii\")"
   ]
  },
  {
   "cell_type": "code",
   "execution_count": 35,
   "metadata": {},
   "outputs": [
    {
     "data": {
      "text/plain": [
       "2"
      ]
     },
     "execution_count": 35,
     "metadata": {},
     "output_type": "execute_result"
    }
   ],
   "source": [
    "hamming_distance(\"cat\", \"bar\")"
   ]
  },
  {
   "cell_type": "code",
   "execution_count": 39,
   "metadata": {},
   "outputs": [],
   "source": [
    "def approximate_pattern_matching(pattern, text, d):\n",
    "    \"\"\"\n",
    "    Returns the starting positions where `pattern` appears as a substring of `text`\n",
    "    with at most `d` mismatches.\n",
    "    \"\"\"\n",
    "    lt, lp = len(text), len(pattern)\n",
    "    if lp > lt:\n",
    "        raise ValueError(\"text should be a longer string than pattern\")\n",
    "        \n",
    "    positions = []\n",
    "    for i in range(lt - lp):\n",
    "        candidate = text[i: i + lp]\n",
    "        distance = hamming_distance(candidate, pattern)\n",
    "        if distance <= d:\n",
    "            positions.append(i)\n",
    "                   \n",
    "    return positions"
   ]
  },
  {
   "cell_type": "code",
   "execution_count": 40,
   "metadata": {},
   "outputs": [
    {
     "data": {
      "text/plain": [
       "[0, 7, 9, 16]"
      ]
     },
     "execution_count": 40,
     "metadata": {},
     "output_type": "execute_result"
    }
   ],
   "source": [
    "approximate_pattern_matching(\"AAAAA\", \"AACAAGCATAAACATTAAAGAG\", 1)"
   ]
  },
  {
   "cell_type": "code",
   "execution_count": 41,
   "metadata": {},
   "outputs": [
    {
     "data": {
      "text/plain": [
       "[0, 1, 3, 6, 7, 8, 9, 10, 13, 14, 15, 16]"
      ]
     },
     "execution_count": 41,
     "metadata": {},
     "output_type": "execute_result"
    }
   ],
   "source": [
    "approximate_pattern_matching(\"AAAAA\", \"AACAAGCATAAACATTAAAGAG\", 2)"
   ]
  },
  {
   "cell_type": "code",
   "execution_count": 42,
   "metadata": {},
   "outputs": [],
   "source": [
    "def approximate_frequent_words(text, k, d):\n",
    "    \"\"\"\n",
    "    Calculate the most approximate frequent contiguous of words of length `k` in `text` with\n",
    "    atmost `d` mismatches.\n",
    "    \"\"\"\n",
    "    lt = len(text)\n",
    "    counts = []\n",
    "    pattern2count = {}\n",
    "    for i in range(lt - k):\n",
    "        pattern = text[i:i + k]\n",
    "        if pattern not in pattern2count:\n",
    "            pattern2count[pattern] = len(approximate_pattern_matching(pattern, text, d))\n",
    "            \n",
    "    max_count = max(pattern2count.values())\n",
    "    frequent_patterns = [pattern for pattern, count in pattern2count.items() if count == max_count]\n",
    "    \n",
    "    return frequent_patterns, max_count"
   ]
  },
  {
   "cell_type": "code",
   "execution_count": 43,
   "metadata": {},
   "outputs": [
    {
     "data": {
      "text/plain": [
       "(['aaaaggatc', 'aaaggatcc'], 3)"
      ]
     },
     "execution_count": 43,
     "metadata": {},
     "output_type": "execute_result"
    }
   ],
   "source": [
    "approximate_frequent_words(e_coli_genome[e_coli_skew_min:e_coli_skew_min + 500], 9, 1)"
   ]
  },
  {
   "cell_type": "code",
   "execution_count": 48,
   "metadata": {},
   "outputs": [],
   "source": [
    "def approximate_frequent_words_with_reverse_components(text, k, d):\n",
    "    \"\"\"\n",
    "    Calculate the most approximate frequent patterns of length `k` in `text` with\n",
    "    atmost `d` mismatches, taking into account reverse components of patterns.\n",
    "    \"\"\"\n",
    "    lt = len(text)\n",
    "    counts = []\n",
    "    pattern2count = {}\n",
    "    for i in range(lt - k):\n",
    "        pattern = text[i:i + k]\n",
    "        rev_pattern = reverse_complement(pattern)\n",
    "        if pattern not in pattern2count and rev_pattern not in pattern2count:\n",
    "            pattern2count[pattern] = (len(approximate_pattern_matching(pattern, text, d)) \n",
    "                                      + len(approximate_pattern_matching(rev_pattern, text, d)))\n",
    "            \n",
    "    max_count = max(pattern2count.values())\n",
    "    frequent_patterns = [pattern for pattern, count in pattern2count.items() if count == max_count]\n",
    "    \n",
    "    return frequent_patterns, max_count"
   ]
  },
  {
   "cell_type": "code",
   "execution_count": 49,
   "metadata": {},
   "outputs": [
    {
     "data": {
      "text/plain": [
       "(['ggatcctgg',\n",
       "  'tgtggataa',\n",
       "  'gtggataac',\n",
       "  'agctgggat',\n",
       "  'gctgggatc',\n",
       "  'ctgggatca'],\n",
       " 4)"
      ]
     },
     "execution_count": 49,
     "metadata": {},
     "output_type": "execute_result"
    }
   ],
   "source": [
    "approximate_frequent_words_with_reverse_components(e_coli_genome[e_coli_skew_min:e_coli_skew_min + 500], 9, 1)"
   ]
  },
  {
   "cell_type": "code",
   "execution_count": null,
   "metadata": {},
   "outputs": [],
   "source": []
  }
 ],
 "metadata": {
  "kernelspec": {
   "display_name": "Python 3",
   "language": "python",
   "name": "python3"
  },
  "language_info": {
   "codemirror_mode": {
    "name": "ipython",
    "version": 3
   },
   "file_extension": ".py",
   "mimetype": "text/x-python",
   "name": "python",
   "nbconvert_exporter": "python",
   "pygments_lexer": "ipython3",
   "version": "3.6.9"
  }
 },
 "nbformat": 4,
 "nbformat_minor": 4
}
